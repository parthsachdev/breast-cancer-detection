{
 "cells": [
  {
   "cell_type": "markdown",
   "metadata": {},
   "source": [
    "<p>\n",
    "Title: Microcalcification Detection <br>\n",
    "Author: Parth Sachdev\n",
    "\n",
    "This code tries to extract features from a given x-ray image\n",
    "of breast. The output are several images that will find \n",
    "microcalcifications from the given input image.\n",
    "</p>\n",
    "\n",
    "<p>\n",
    "    Some important methods:\n",
    "    <ul>\n",
    "        <li> cv2.cvtColor() method is used to convert an image from one color space to another </li>\n",
    "        <li> cv2.convertScaleAbs(): Scales, calculates absolute values, and converts the result to 8-bit </li>\n",
    "    </ul>\n",
    "</p>"
   ]
  },
  {
   "cell_type": "code",
   "execution_count": 1,
   "metadata": {},
   "outputs": [],
   "source": [
    "# Import Libraries\n",
    "import cv2\n",
    "import numpy as np"
   ]
  },
  {
   "cell_type": "code",
   "execution_count": 2,
   "metadata": {},
   "outputs": [],
   "source": [
    "OUTPUT = \"Output/\""
   ]
  },
  {
   "cell_type": "code",
   "execution_count": 15,
   "metadata": {},
   "outputs": [],
   "source": [
    "def view_and_save(title, image):\n",
    "    cv2.imwrite(OUTPUT+title+\".png\", image)\n",
    "    cv2.imshow(title, image)\n",
    "    cv2.waitKey(0)"
   ]
  },
  {
   "cell_type": "code",
   "execution_count": 3,
   "metadata": {},
   "outputs": [],
   "source": [
    "# Load the image\n",
    "file = \"Dataset/mdb001c.png\"\n",
    "img = cv2.imread(file)"
   ]
  },
  {
   "cell_type": "code",
   "execution_count": 4,
   "metadata": {},
   "outputs": [
    {
     "data": {
      "text/plain": [
       "-1"
      ]
     },
     "execution_count": 4,
     "metadata": {},
     "output_type": "execute_result"
    }
   ],
   "source": [
    "# View Original Image\n",
    "view_and_save(\"Original Image\", img)"
   ]
  },
  {
   "cell_type": "markdown",
   "metadata": {},
   "source": [
    "<h3> Image Preprocesing </h3>"
   ]
  },
  {
   "cell_type": "code",
   "execution_count": 5,
   "metadata": {},
   "outputs": [
    {
     "data": {
      "text/plain": [
       "-1"
      ]
     },
     "execution_count": 5,
     "metadata": {},
     "output_type": "execute_result"
    }
   ],
   "source": [
    "# The Median blur operation is similar to the other averaging methods. \n",
    "# Here, the central element of the image is replaced by the median of all the pixels in the kernel area.\n",
    "# This operation processes the edges while removing the noise.\n",
    "median_img = cv2.medianBlur(img, 3)\n",
    "view_and_save(\"After Median Filtering\", median_img);"
   ]
  },
  {
   "cell_type": "code",
   "execution_count": 6,
   "metadata": {},
   "outputs": [
    {
     "data": {
      "text/plain": [
       "-1"
      ]
     },
     "execution_count": 6,
     "metadata": {},
     "output_type": "execute_result"
    }
   ],
   "source": [
    "# Histogram equalization (https://www.geeksforgeeks.org/histograms-equalization-opencv/)\n",
    "# is a method in image processing of contrast adjustment using the image’s histogram.\n",
    "img_to_yuv = cv2.cvtColor(median_img, cv2.COLOR_BGR2YUV)\n",
    "img_to_yuv[:,:,0] = cv2.equalizeHist(img_to_yuv[:,:,0])\n",
    "hist_equalization_result = cv2.cvtColor(img_to_yuv, cv2.COLOR_YUV2BGR)\n",
    "\n",
    "view_and_save(\"Histogram Equalization\", hist_equalization_result)"
   ]
  },
  {
   "cell_type": "code",
   "execution_count": 7,
   "metadata": {},
   "outputs": [
    {
     "data": {
      "text/plain": [
       "-1"
      ]
     },
     "execution_count": 7,
     "metadata": {},
     "output_type": "execute_result"
    }
   ],
   "source": [
    "# Modifying the histogram image\n",
    "psy = 0.8\n",
    "modified_histogram = (median_img + psy*hist_equalization_result)/(1+psy)\n",
    "view_and_save(\"Modified histogram image\", modified_histogram)"
   ]
  },
  {
   "cell_type": "code",
   "execution_count": 8,
   "metadata": {},
   "outputs": [
    {
     "data": {
      "text/plain": [
       "-1"
      ]
     },
     "execution_count": 8,
     "metadata": {},
     "output_type": "execute_result"
    }
   ],
   "source": [
    "# Not sure what we are doing here\n",
    "scaled_abs = cv2.convertScaleAbs(modified_histogram)\n",
    "gaussian_blur = cv2.GaussianBlur(scaled_abs, (9,9), 10.0)\n",
    "unsharp_image = cv2.addWeighted(img, 1.5, gaussian_blur, -0.5, 0, scaled_abs)\n",
    "view_and_save(\"After lce\", unsharp_image)"
   ]
  },
  {
   "cell_type": "code",
   "execution_count": 9,
   "metadata": {},
   "outputs": [
    {
     "data": {
      "text/plain": [
       "-1"
      ]
     },
     "execution_count": 9,
     "metadata": {},
     "output_type": "execute_result"
    }
   ],
   "source": [
    "# Image Dilution\n",
    "kernel = np.ones((15,15), np.uint8)\n",
    "img_dilation = cv2.dilate(unsharp_image, kernel, iterations=1)\n",
    "view_and_save('Image Dilation', img_dilation)"
   ]
  },
  {
   "cell_type": "markdown",
   "metadata": {},
   "source": [
    "<h3> Top-hat Transformation </h3>"
   ]
  },
  {
   "cell_type": "code",
   "execution_count": 10,
   "metadata": {},
   "outputs": [
    {
     "data": {
      "text/plain": [
       "-1"
      ]
     },
     "execution_count": 10,
     "metadata": {},
     "output_type": "execute_result"
    }
   ],
   "source": [
    "# In mathematical morphology and digital image processing, \n",
    "# top-hat transform is an operation that extracts small elements and details from given images.\n",
    "kernel = np.ones((10,15),np.uint8)\n",
    "tophat = cv2.morphologyEx(img, cv2.MORPH_TOPHAT, kernel)\n",
    "\n",
    "view_and_save(\"Top-hat Transformation\", tophat)"
   ]
  },
  {
   "cell_type": "markdown",
   "metadata": {},
   "source": [
    "<h3> Thresholded Image </h3>"
   ]
  },
  {
   "cell_type": "code",
   "execution_count": 12,
   "metadata": {},
   "outputs": [
    {
     "data": {
      "text/plain": [
       "-1"
      ]
     },
     "execution_count": 12,
     "metadata": {},
     "output_type": "execute_result"
    }
   ],
   "source": [
    "img = tophat\n",
    "\n",
    "hist = cv2.calcHist([img],[0],None,[256],[0,256])\n",
    "hist_norm = hist.ravel() / hist.max()\n",
    "Q = hist_norm.cumsum()\n",
    "bins = np.arange(256)\n",
    "fn_min = np.inf\n",
    "thresh = -1\n",
    "for i in range(1,256):\n",
    "    p1, p2 = np.hsplit(hist_norm,[i]) # probabilities\n",
    "    q1, q2 = Q[i],Q[255]-Q[i] # cum sum of classes\n",
    "    if q1 == 0:\n",
    "        q1 = 0.00000001\n",
    "        if q2 == 0:\n",
    "            q2 = 0.00000001\n",
    "        b1, b2 = np.hsplit(bins,[i]) # weights\n",
    "        # finding means and variances\n",
    "        m1, m2 = np.sum(p1*b1)/q1, np.sum(p2*b2)/q2\n",
    "        v1, v2 = np.sum(((b1-m1)**2)*p1)/q1,np.sum(((b2-m2)**2)*p2)/q2\n",
    "        # calculates the minimization function\n",
    "        fn = v1*q1 + v2*q2\n",
    "        if fn < fn_min:\n",
    "            fn_min = fn\n",
    "            thresh = i\n",
    "ret2, thresh = cv2.threshold(img,thresh,255,cv2.THRESH_BINARY)\n",
    "\n",
    "view_and_save(\"Thresholded Image\", thresh)"
   ]
  },
  {
   "cell_type": "markdown",
   "metadata": {},
   "source": [
    "<h3> Clustered Image </h3>"
   ]
  },
  {
   "cell_type": "code",
   "execution_count": 13,
   "metadata": {},
   "outputs": [
    {
     "data": {
      "text/plain": [
       "-1"
      ]
     },
     "execution_count": 13,
     "metadata": {},
     "output_type": "execute_result"
    }
   ],
   "source": [
    "img = thresh\n",
    "Z = img.reshape((-1,3))\n",
    "Z = np.float32(Z)\n",
    "# define criteria, number of clusters(K) and apply kmeans()\n",
    "criteria = (cv2.TERM_CRITERIA_EPS + cv2.TERM_CRITERIA_MAX_ITER, 10, 1.0)\n",
    "K = 8\n",
    "ret, label, center = cv2.kmeans(Z, K, None, criteria, 10, cv2.KMEANS_RANDOM_CENTERS)\n",
    "# Now convert back into uint8, and make original image\n",
    "center = np.uint8(center)\n",
    "res = center[label.flatten()]\n",
    "res2 = res.reshape((img.shape))\n",
    "\n",
    "view_and_save('Clustered Image', res2)"
   ]
  },
  {
   "cell_type": "markdown",
   "metadata": {},
   "source": [
    "<h3> Feature Extraction </h3>"
   ]
  },
  {
   "cell_type": "code",
   "execution_count": null,
   "metadata": {},
   "outputs": [],
   "source": []
  },
  {
   "cell_type": "code",
   "execution_count": null,
   "metadata": {},
   "outputs": [],
   "source": [
    "cv2.destroyAllWindows()"
   ]
  }
 ],
 "metadata": {
  "kernelspec": {
   "display_name": "Python 3",
   "language": "python",
   "name": "python3"
  },
  "language_info": {
   "codemirror_mode": {
    "name": "ipython",
    "version": 3
   },
   "file_extension": ".py",
   "mimetype": "text/x-python",
   "name": "python",
   "nbconvert_exporter": "python",
   "pygments_lexer": "ipython3",
   "version": "3.7.3"
  }
 },
 "nbformat": 4,
 "nbformat_minor": 2
}
